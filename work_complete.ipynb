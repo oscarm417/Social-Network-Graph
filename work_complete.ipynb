{
 "cells": [
  {
   "cell_type": "code",
   "execution_count": 1,
   "metadata": {},
   "outputs": [],
   "source": [
    "#importing packages\n",
    "import pandas as pd\n",
    "import numpy as np \n",
    "import networkx as nx\n",
    "import pickle\n",
    "from collections import Counter \n",
    "from tqdm import tqdm\n",
    "from scipy.sparse import csr_matrix\n",
    "import networkx as nx\n",
    "from sklearn.manifold import TSNE\n",
    "from scipy.sparse import identity, diags\n",
    "from scipy.sparse.linalg import eigsh\n",
    "import matplotlib.pyplot as plt"
   ]
  },
  {
   "attachments": {},
   "cell_type": "markdown",
   "metadata": {},
   "source": [
    "# Reading Data <br>\n",
    "\n",
    "Reading the \"edges.csv\" file into a pandas DataFrame, and then dropping duplicate rows.\n",
    "\n",
    "<b>Variables</b>:<br>\n",
    "\\------------<br>\n",
    "<b>edges:pd.DataFrame</b><br>\n",
    "Contains two columns,[\"Source\",\"Target\"], representing directional edge from the source node to the target node.\n",
    "\n",
    "<br>\n",
    "<b>Params</b>:<br>\n",
    "------------<br>\n",
    "edges"
   ]
  },
  {
   "cell_type": "code",
   "execution_count": 3,
   "metadata": {},
   "outputs": [],
   "source": [
    "#importing data \n",
    "edges = pd.read_csv('edges.csv')\n",
    "edges = edges.drop_duplicates()\n"
   ]
  },
  {
   "attachments": {},
   "cell_type": "markdown",
   "metadata": {},
   "source": [
    "# Creating Directional Graph - 1 <br>\n",
    "Creating a Networkx directional graph. Then iterating <br>\n",
    "through the DataFrame containing the edges and inserting the edges.<br>\n",
    "Networkx automatically adds nodes.\n",
    "\n",
    "<b>Variables</b>: <br>\n",
    "\\----------<br>\n",
    "<b>G: Networkx directional Graph obect</b><br>\n",
    "Networkx directional graph we add nodes & edges to<br>\n",
    "edges (pd.DataFrame) : Dataframe containing the graph edges\n",
    "\n"
   ]
  },
  {
   "cell_type": "code",
   "execution_count": 5,
   "metadata": {},
   "outputs": [],
   "source": [
    "#Creating Graph Object \n",
    "G = nx.DiGraph()\n",
    "\n",
    "#Creating Network \n",
    "for i,r in edges.iterrows():\n",
    "    source_node = r['Source']\n",
    "    target_node = r['Target']\n",
    "    G.add_edge(source_node,target_node)\n",
    "\n",
    "\"\"\" \n",
    "Note: Instead of running the code above to create the graph, you can read a pickled graph object for faster execution.\n",
    "\"\"\"\n",
    "# import pickle \n",
    "# G = pickle.load(open('graph.pickle','rb'))\n"
   ]
  },
  {
   "attachments": {},
   "cell_type": "markdown",
   "metadata": {},
   "source": [
    "# Calculate Page Rank for all Nodes - 2\n",
    "\n",
    "Calculate the pagerank of the graph (G), with a damping factor(alpha = 0.85), which returns a dictionary. Then the dictionary is converted into a dataframe, which is then stored into a csv file.\n",
    "\n",
    "<b>Variables</b>:<br>\n",
    "\\------------<br>\n",
    "<b>alpha:float</b><br>\n",
    "The damping factor. It is the probability of a random jump in the network. Page rank either follows a directed edge to a neighboring node or teleports to a random node in the network with probability (1-alpha). A higher value of alpha means its more likely to follow the edges and less likely to teleport. A higher alpha emphasizes the importance of incoming nodes. Its standard practice to use 0.85\n",
    "\n",
    "<b>pageRank_values: dictionary(int):(float)</b><br>\n",
    "A dictionary containing the pagerank value of each node.\n",
    "\n",
    "<b>pagerank_df: pd.DataFrame</b><br>\n",
    "Dataframe containing each Node and its corresponding pagerank value"
   ]
  },
  {
   "cell_type": "code",
   "execution_count": 34,
   "metadata": {},
   "outputs": [],
   "source": [
    "alpha = .85 \n",
    "pageRank_values = nx.pagerank(G,alpha =alpha)\n",
    "pagerank_df = pd.DataFrame.from_dict(pageRank_values,orient =\"index\").reset_index()\n",
    "pagerank_df.columns = ['Node','PageRank']\n",
    "pagerank_df.to_csv('page_rank.csv',index = False)"
   ]
  },
  {
   "attachments": {},
   "cell_type": "markdown",
   "metadata": {},
   "source": [
    "# Community Detection - 3\n",
    "Detecting network communities, and their member nodes using the Louvain algorithm. Next each node is assign their respective community in a dictionary. This dicitonary is then converted into a pd.DataFrame and csv. Lastly, each node in the Graph (G) gets labeled with their community integer.\n",
    "\n",
    "<b>Variables</b>:<br>\n",
    "\\------------<br>\n",
    "<b>comms:list[set]</b><br> Returns a list of sets, where each set is a community. Each set contains the member nodes.\n",
    "\n",
    "<b>comms_list: dict[int:int]</b><br>\n",
    "A dictionary containing the node(key), and community(value).\n",
    "\n",
    "<b>comms_df :pd.DataFrame </b><br>\n",
    "A data frame containing each node and their respective community\n"
   ]
  },
  {
   "cell_type": "code",
   "execution_count": 19,
   "metadata": {},
   "outputs": [],
   "source": [
    "#Detecting Communities \n",
    "comms = nx.community.louvain_communities(G)\n",
    "\n",
    "#Creating a dict that lists every node, and their community\n",
    "comm_list = dict()\n",
    "for i,comm in enumerate(comms):\n",
    "    for node in comm:\n",
    "        comm_list[node] = [i]\n",
    "\n",
    "#Creating DataFrame\n",
    "comms_df = pd.DataFrame(comm_list).T\n",
    "comms_df = comms_df.reset_index()\n",
    "comms_df.columns = ['Node','Community']\n",
    "comms_df.to_csv(\"communities.csv\",index = False)"
   ]
  },
  {
   "cell_type": "code",
   "execution_count": null,
   "metadata": {},
   "outputs": [],
   "source": [
    "def set_node_community(G, communities):\n",
    "    '''Add community to node attributes\n",
    "    Parameters\n",
    "    ----------\n",
    "    G:Networkx Graph\n",
    "                    The graph to which nodes we assign a community number\n",
    "    \n",
    "    communities: list[set(Nodes)]\n",
    "                    A list of sets, where each set contains the integer representation of the nodes\n",
    "    '''\n",
    "    for c, v_c in enumerate(communities):\n",
    "        for v in v_c:\n",
    "            # Add 1 to save 0 for external edges\n",
    "            G.nodes[v]['community'] = c + 1\n",
    "\n",
    "set_node_community(G, comms)"
   ]
  },
  {
   "attachments": {},
   "cell_type": "markdown",
   "metadata": {},
   "source": [
    "# Set Color based off community\n",
    "A function called get_color that generates a color based on an integer value.\n",
    "This function is used to assign colors to each node, based on their community\n",
    "integer value. This value is then stored in a list, pd.DataFrame, and csv file\n",
    "\n",
    "<b>Variables</b><br>\n",
    "\\----------<br>\n",
    "<b>node_color: List[Tuple(int,int,int)]</b><br>\n",
    "                A list of tuples, where each tuple is an integer corresponding to red, blue, green\n",
    "                \n",
    "<b>node_color_dict: Dict[Node: (R,G,B)]</b><br>\n",
    "                A dictionary where the key is the node, and the value is their respective community color R,G,B\n"
   ]
  },
  {
   "cell_type": "code",
   "execution_count": 18,
   "metadata": {},
   "outputs": [],
   "source": [
    "def get_color(i,number_of_colors = 100,  r_off=1, g_off=1, b_off=1):\n",
    "    '''Assign a color to a node based on their community number \"i\".\n",
    "\n",
    "    Parameters\n",
    "    ----------\n",
    "    i: int\n",
    "                I is the respective community number\n",
    "    number_of_colors: int\n",
    "                The number of possible colors that will be used.\n",
    "    r_off:(int)\n",
    "                Red color offset\n",
    "    g_off: int\n",
    "                Green color offset\n",
    "    b_off: int\n",
    "                Blue color offset    \n",
    "    Returns\n",
    "    -------\n",
    "    (r, g, b):(int,int,int)\n",
    "                red, green, and blue integer color\n",
    "    '''\n",
    "    r0, g0, b0 = 0, 0, 0\n",
    "    low, high = 0.1, 0.9\n",
    "    span = high - low\n",
    "    r = low + span * (((i + r_off) * 3) % number_of_colors) / (number_of_colors - 1)\n",
    "    g = low + span * (((i + g_off) * 5) % number_of_colors) / (number_of_colors - 1)\n",
    "    b = low + span * (((i + b_off) * 7) % number_of_colors) / (number_of_colors - 1)\n",
    "    return (r, g, b)\n",
    "\n",
    "#node color list to use when plotting \n",
    "node_color = [get_color(G.nodes[v]['community']) for v in G.nodes]\n",
    "\n",
    "#Storing Node Colors dictionary in pd.DataFrame \n",
    "node_color_dict = {v:get_color(G.nodes[v]['community']) for v in G.nodes}\n",
    "node_color_df = pd.DataFrame(node_color_dict).T\n",
    "node_color_df = node_color_df.reset_index()\n",
    "node_color_df.columns = ['Node','R','G','B']\n",
    "#Exporting dataframe to csv\n",
    "node_color_df.to_csv('node_colors.csv',index = False)"
   ]
  },
  {
   "attachments": {},
   "cell_type": "markdown",
   "metadata": {},
   "source": [
    "# Degree Distribution - 6\n",
    "Getting each nodes degree and storing it in a dictionary. The dictionary is converted to a pd.DataFrame and csv. Then the nodes and their respective degree count is plotted, and compared against the power law distribution.\n",
    "\n",
    "Please note that we use G.Degree(). However, since this is a directed graph this function sums the in and out degree. This could be changed to G.in_degree() to get a clearer picture of who people listen to more. \n",
    "\n",
    "<b>Variables</b><br>l\n",
    "\\----------<br>\n",
    "<b>node_degree: Dict</b><br>\n",
    "                Dictionary containing each nodes degree.\n",
    "\n",
    "<b>node_degree_df: pd.DataFrame</b><br>\n",
    "                Dataframe containing each nodes degree."
   ]
  },
  {
   "cell_type": "code",
   "execution_count": 26,
   "metadata": {},
   "outputs": [],
   "source": [
    "#Extracting node, and degree from Graph into DataFrame\n",
    "node_degrees = {n:d for n,d in G.degree()}\n",
    "node_degrees_df = pd.DataFrame.from_dict(node_degrees,orient='index').reset_index()\n",
    "node_degrees_df.columns = ['Node','Degrees']\n",
    "node_degrees_df.to_csv('node_degrees.csv',index = False)"
   ]
  },
  {
   "cell_type": "code",
   "execution_count": 83,
   "metadata": {},
   "outputs": [
    {
     "data": {
      "text/plain": [
       "Text(0.5, 1.0, 'Degree plot of network')"
      ]
     },
     "execution_count": 83,
     "metadata": {},
     "output_type": "execute_result"
    },
    {
     "data": {
      "image/png": "[encoded data removed]",
      "text/plain": [
       "<Figure size 432x288 with 1 Axes>"
      ]
     },
     "metadata": {},
     "output_type": "display_data"
    }
   ],
   "source": [
    "#visualizing \n",
    "degree_counts = pd.DataFrame.from_dict(dict(Counter(node_degrees_df['Degrees'])),orient='index').reset_index()\n",
    "degree_counts.columns = ['degree','count']\n",
    "degree_counts.sort_values(by =['degree'],ascending=False,inplace=True)\n",
    "degree_counts['degree'].drop_duplicates().reset_index()['degree'].plot()\n",
    "plt.xlabel('Node')\n",
    "plt.ylabel('# of Degrees')\n",
    "plt.title(\"Degree plot of network\")"
   ]
  },
  {
   "cell_type": "code",
   "execution_count": 90,
   "metadata": {},
   "outputs": [
    {
     "data": {
      "text/plain": [
       "<AxesSubplot:>"
      ]
     },
     "execution_count": 90,
     "metadata": {},
     "output_type": "execute_result"
    },
    {
     "data": {
      "image/png": "[encoded data removed]",
      "text/plain": [
       "<Figure size 432x288 with 1 Axes>"
      ]
     },
     "metadata": {},
     "output_type": "display_data"
    }
   ],
   "source": [
    "#visualizing the nodes distribution against the power law distribution\n",
    "import powerlaw\n",
    "pfit = powerlaw.Fit(node_degrees_df['Degrees'].tolist(),xmin = 1)\n",
    "fig2 = pfit.plot_pdf(color='b', linewidth=2)\n",
    "pfit.power_law.plot_pdf(color='g', linestyle='--', ax=fig2)\n",
    "\"\"\"\n",
    "Green: Ideal Power Law \n",
    "Blue: Twitter Data fit \n",
    "\"\"\""
   ]
  },
  {
   "attachments": {},
   "cell_type": "markdown",
   "metadata": {},
   "source": [
    "# Detecting Influencers/Hubs for each community \n",
    "Hubs/influencers are detected by first calculating each nodes in degree centrality, which is stored in the in_degre_df. Then the comms_df, which is the dataframe containing each node and their respective community is merged to in_degree_df. Next, the pagerank_df is merged in with the previous two data frames. Lastly, we get the top 1% of nodes, based on their in degree centrality or pagerank. This is to capture both community internal influencers, and nodes that connect two communities together. \n",
    "\n",
    "\n",
    "\n",
    "<b>Variables</b><br>\n",
    "\\----------<br>\n",
    "<b>In_degree_dic: dict</b><br>\n",
    "                Dictionary Containing each nodes in degree centrality\n",
    "\n",
    "<b>In_degree_df: pd.DataFrame</b><br>\n",
    "                Dataframe containing each nodes in degree centrality\n",
    "\n",
    "<b>influencers_measures: pd.DataFrame</b><br>\n",
    "                Dataframe containing each nodes in degree centrality and pagrank centrality measures\n",
    "    "
   ]
  },
  {
   "cell_type": "code",
   "execution_count": 42,
   "metadata": {},
   "outputs": [],
   "source": [
    "#Calculating indegree & merging with the community labeled dataframe\n",
    "in_degree_dict = nx.in_degree_centrality(G)\n",
    "in_degree_df = pd.DataFrame.from_dict(in_degree_dict, orient='index')\n",
    "in_degree_df = in_degree_df.reset_index()\n",
    "in_degree_df.columns = ['Node','in_degree']\n",
    "# comms_df = pd.read_csv('Stats/communities.csv') if the communities cell hasnt been run, use the csv file\n",
    "in_degree_df = in_degree_df.merge(comms_df, how = 'left', on = 'Node')\n",
    "influencer_measures = in_degree_df.merge(pagerank_df,how = 'left', on = 'Node')"
   ]
  },
  {
   "cell_type": "code",
   "execution_count": 43,
   "metadata": {},
   "outputs": [],
   "source": [
    "#Getting top 1% of each community based on the in degree\n",
    "communities = influencer_measures['Community'].unique()\n",
    "influencer_measures['degree_influencer']  = 0\n",
    "influencer_measures['pagerank_influencer']  = 0\n",
    "top_pct = .01\n",
    "for community in communities: \n",
    "    #degree based influencers\n",
    "    temp_df = influencer_measures[influencer_measures['Community']==community] \n",
    "    temp_df = temp_df.sort_values(by = ['in_degree'], ascending = False)\n",
    "    top_nodes = int(len(temp_df)*top_pct)\n",
    "    temp_df_degree = temp_df.iloc[:top_nodes]\n",
    "    influencer_list = temp_df_degree['Node'].tolist()\n",
    "    influencer_measures.loc[influencer_measures['Node'].isin(influencer_list),'degree_influencer'] = 1\n",
    "\n",
    "    #pagerank based influencers\n",
    "    temp_df = temp_df.sort_values(by = ['PageRank'], ascending = False)\n",
    "    temp_df_pagerank = temp_df.iloc[:top_nodes]\n",
    "    influencer_list = temp_df_pagerank['Node'].tolist()\n",
    "    influencer_measures.loc[influencer_measures['Node'].isin(influencer_list),'pagerank_influencer'] = 1\n",
    "    influencer_measures['influencer'] = influencer_measures[['degree_influencer','pagerank_influencer']].sum(axis = 1)\n",
    "\n",
    "#filtering out for only those in the top 1% in terms of pagerank or in degree centrality\n",
    "influencer_measures = influencer_measures[(influencer_measures['influencer']>0)]\n",
    "influencer_measures.to_csv('Stats/influencer_nodes.csv',index = False)\n"
   ]
  },
  {
   "attachments": {},
   "cell_type": "markdown",
   "metadata": {},
   "source": [
    "# All Cliques \n",
    "Find all network cliques based on the Bron and Kerbosch algorithm. These cliques are then stored in a pd.DataFrame and csv file.\n",
    "\n",
    "<b>Variables</b><br>\n",
    "\\----------<br>\n",
    "<b>G_und: Netwokrx Graph</b><br>\n",
    "                Undirected netwokx graph. This was used, since the find_clique algorithm only work on undirected graphs\n",
    "\n",
    "<b>c: pd.DataFrame</b><br>\n",
    "                Dataframe containing each clique"
   ]
  },
  {
   "cell_type": "code",
   "execution_count": 4,
   "metadata": {},
   "outputs": [],
   "source": [
    "G_und = nx.to_undirected(G)\n",
    "c = list(nx.find_cliques(G_und))\n",
    "cliques = pd.DataFrame(c).fillna(\"\")\n",
    "cliques.to_csv('cliques.csv',index = False)"
   ]
  },
  {
   "attachments": {},
   "cell_type": "markdown",
   "metadata": {},
   "source": [
    "# Converting graph to a scipy sparse matrix\n",
    "The graphs is converted into an undirected graph, which is then converted into scipy sparse matrix. This was done to conserve memory, as a standard np.array required too much ram.\n",
    "\n",
    "<b>G_und: Netwokrx Graph</b><br>\n",
    "                Undirected netwokx graph.\n",
    "\n",
    "<b>A: Scipy Sparse Matrix</b><br>\n",
    "                A scipy sparse matrix to conserve memory"
   ]
  },
  {
   "cell_type": "code",
   "execution_count": 4,
   "metadata": {},
   "outputs": [
    {
     "name": "stderr",
     "output_type": "stream",
     "text": [
      "/tmp/ipykernel_157922/3289671299.py:3: DeprecationWarning: \n",
      "\n",
      "The scipy.sparse array containers will be used instead of matrices\n",
      "in Networkx 3.0. Use `to_scipy_sparse_array` instead.\n",
      "  A = nx.to_scipy_sparse_matrix(G, dtype='uint8')\n"
     ]
    }
   ],
   "source": [
    "G_und = nx.to_undirected(G)\n",
    "A = nx.to_scipy_sparse_matrix(G, dtype='uint8')"
   ]
  },
  {
   "attachments": {},
   "cell_type": "markdown",
   "metadata": {},
   "source": [
    "# Computing X,Y coordinates \n",
    "\n",
    "Decompose the graph into a 2d dimensional data using the t-SNE or T-distributed Stochastic Neighbourhood Embedding. Firt the Laplacian, eigenvectors and egienvalues are computed. Next the data is fit using the t-sne model. Lastly the coordinates are stored in a dicitonary, pd.DataFrame, and csv file\n",
    "\n",
    "<b>Variables</b><br>\n",
    "\\----------<br>\n",
    "<b>D: scipy.sparse.dia_matrix</b><br>\n",
    "                is a diagonal matrix with the degree of each node on its diagonal.\n",
    "\n",
    "<b>L: scipy.sparse.csr_matrix</b><br>\n",
    "                is the Laplacian matrix obtained by subtracting the adjacency matrix `A` from `D`.Compute the eigenvectors and eigenvalues of `L` using sparse matrix operations to obtain `k` eigenvectors.\n",
    "\n",
    "<b>K: int</b><br>\n",
    "                The number of eigenvectors and eigenvalues of the Laplacian matrix `L` to compute.\n",
    "\n",
    "<b>vals: numpy.ndarray</b><br>\n",
    "                A 1D array containing the `k` smallest eigenvalues of the Laplacian matrix `L`.\n",
    "\n",
    "<b>vecs: numpy.ndarray</b><br>\n",
    "                A 2D array where each column is an eigenvector corresponding to the `k` smallest eigenvalues of `L`.\n",
    "\n",
    "<b>X: numpy.ndarray</b><br>\n",
    "                A 2D array containing the `k` eigenvectors corresponding to the `k` smallest eigenvalues of `L`.\n",
    "\n",
    "\n",
    "<b>tsne: sklearn.manifold.TSNE </b><br>\n",
    "                A t-SNE (t-Distributed Stochastic Neighbor Embedding) object, used for dimensionality reduction.\n",
    "\n",
    "<b>X_tsne: numpy.ndarray</b><br>\n",
    "                A 2D array containing the transformed data obtained by applying the t-SNE algorithm to the matrix `X`.\n",
    "\n",
    "<b>pos: dict </b><br>\n",
    "                A dictionary where the keys are nodes of the graph `G` and the values are 2D numpy arrays containing the x,y coordinates of all nodes in the graph.\n",
    "\n"
   ]
  },
  {
   "cell_type": "code",
   "execution_count": 5,
   "metadata": {},
   "outputs": [
    {
     "name": "stdout",
     "output_type": "stream",
     "text": [
      "diagnels\n",
      "eigens\n",
      "tsne\n",
      "transform\n",
      "coordinates\n"
     ]
    }
   ],
   "source": [
    "\n",
    "\n",
    "# Compute the graph Laplacian\n",
    "D = diags(np.asarray(A.sum(axis=1)).squeeze(), 0)\n",
    "L = D - A\n",
    "print('eigens')\n",
    "# Compute the eigenvectors and eigenvalues of the Laplacian using sparse matrix operations\n",
    "k = 10\n",
    "vals, vecs = eigsh(L, k=k, which='SM')\n",
    "X = vecs[:, 1:k]\n",
    "print('tsne')\n",
    "# Initialize a t-SNE object with specified parameters\n",
    "tsne = TSNE(n_components=2, perplexity=30, learning_rate=200, method='barnes_hut')\n",
    "print('transform')\n",
    "# Fit the t-SNE model to the data\n",
    "X_tsne = tsne.fit_transform(X)\n",
    "print('coordinates')\n",
    "# Get the x,y coordinates for all nodes\n",
    "pos = {}\n",
    "for i, node in enumerate(G.nodes()):\n",
    "    pos[node] = X_tsne[i]"
   ]
  },
  {
   "cell_type": "code",
   "execution_count": 13,
   "metadata": {},
   "outputs": [],
   "source": [
    "pos_df = pd.DataFrame.from_dict(pos)\n",
    "pos_df = pos_df.T\n",
    "pos_df  = pos_df.reset_index()\n",
    "pos_df.columns = ['Node','X','Y']\n",
    "pos_df.to_csv('coordinates.csv',index = False)"
   ]
  },
  {
   "cell_type": "code",
   "execution_count": 19,
   "metadata": {},
   "outputs": [],
   "source": [
    "\n",
    "plt.scatter(np.array(list(pos.values()))[:,0], np.array(list(pos.values()))[:,1],c = node_color )\n",
    "plt.show()\n"
   ]
  },
  {
   "cell_type": "code",
   "execution_count": 12,
   "metadata": {},
   "outputs": [],
   "source": [
    "#Combining key stats \n",
    "comms_df = pd.read_csv('Stats/communities.csv')\n",
    "pagerank_df = pd.read_csv('Stats/page_rank.csv')\n",
    "pos_df = pd.read_csv('Stats/coordinates.csv')\n",
    "nodes = pd.read_csv('nodes.csv')\n",
    "#merging data frames together\n",
    "Node_rank_community_coordinates_df = comms_df.merge(pagerank_df,how ='left', on ='Node').merge(pos_df, how = 'left', on = 'Node')\n",
    "nodes.rename(columns = {'id':'Node'},inplace = True)\n",
    "Node_rank_community_coordinates_df = Node_rank_community_coordinates_df.merge(nodes, how = 'left', on = 'Node')\n",
    "\n",
    "#droping duplicates \n",
    "Node_rank_community_coordinates_df = Node_rank_community_coordinates_df.drop_duplicates()\n",
    "\n",
    "#storing to csv\n",
    "Node_rank_community_coordinates_df.to_csv(\"Node_rank_community_coordinates.csv\",index = False)"
   ]
  },
  {
   "cell_type": "code",
   "execution_count": 2,
   "metadata": {},
   "outputs": [],
   "source": [
    "import pandas as pd \n",
    "pagerank_df = pd.read_csv('Stats/page_rank.csv')\n",
    "n = pd.read_csv('nodes.csv')"
   ]
  },
  {
   "cell_type": "code",
   "execution_count": 11,
   "metadata": {},
   "outputs": [],
   "source": [
    "combined = pagerank_df.merge(n, how = 'left', left_on = 'Node', right_on = 'id')"
   ]
  },
  {
   "cell_type": "code",
   "execution_count": 14,
   "metadata": {},
   "outputs": [],
   "source": [
    "combined = combined.sort_values(by =  ['PageRank'],ascending=False).drop_duplicates()"
   ]
  },
  {
   "cell_type": "code",
   "execution_count": 17,
   "metadata": {},
   "outputs": [],
   "source": [
    "df = pd.read_csv(\"Stats\\influencer_nodes.csv\")"
   ]
  },
  {
   "cell_type": "code",
   "execution_count": 19,
   "metadata": {},
   "outputs": [],
   "source": [
    "combined = combined.merge(df, how ='left', on = 'Node')"
   ]
  },
  {
   "cell_type": "code",
   "execution_count": 22,
   "metadata": {},
   "outputs": [],
   "source": [
    "combined.sort_values(by = ['PageRank_y'],inplace = True)"
   ]
  },
  {
   "cell_type": "code",
   "execution_count": 29,
   "metadata": {},
   "outputs": [
    {
     "data": {
      "text/html": [
       "<div>\n",
       "<style scoped>\n",
       "    .dataframe tbody tr th:only-of-type {\n",
       "        vertical-align: middle;\n",
       "    }\n",
       "\n",
       "    .dataframe tbody tr th {\n",
       "        vertical-align: top;\n",
       "    }\n",
       "\n",
       "    .dataframe thead th {\n",
       "        text-align: right;\n",
       "    }\n",
       "</style>\n",
       "<table border=\"1\" class=\"dataframe\">\n",
       "  <thead>\n",
       "    <tr style=\"text-align: right;\">\n",
       "      <th></th>\n",
       "      <th>Node</th>\n",
       "      <th>PageRank_x</th>\n",
       "      <th>id</th>\n",
       "      <th>label</th>\n",
       "      <th>in_degree</th>\n",
       "      <th>Community</th>\n",
       "      <th>PageRank_y</th>\n",
       "      <th>degree_influencer</th>\n",
       "      <th>pagerank_influencer</th>\n",
       "      <th>influencer</th>\n",
       "    </tr>\n",
       "  </thead>\n",
       "  <tbody>\n",
       "    <tr>\n",
       "      <th>18725</th>\n",
       "      <td>1234074561710317569</td>\n",
       "      <td>4.316001e-08</td>\n",
       "      <td>1234074561710317569</td>\n",
       "      <td>asyadoksozz</td>\n",
       "      <td>2.782507e-07</td>\n",
       "      <td>17.0</td>\n",
       "      <td>4.316001e-08</td>\n",
       "      <td>1.0</td>\n",
       "      <td>1.0</td>\n",
       "      <td>2.0</td>\n",
       "    </tr>\n",
       "    <tr>\n",
       "      <th>18809</th>\n",
       "      <td>591868046</td>\n",
       "      <td>4.316001e-08</td>\n",
       "      <td>591868046</td>\n",
       "      <td>bipolarism_</td>\n",
       "      <td>2.782507e-07</td>\n",
       "      <td>14.0</td>\n",
       "      <td>4.316001e-08</td>\n",
       "      <td>1.0</td>\n",
       "      <td>1.0</td>\n",
       "      <td>2.0</td>\n",
       "    </tr>\n",
       "    <tr>\n",
       "      <th>18742</th>\n",
       "      <td>1314904516656074752</td>\n",
       "      <td>4.316001e-08</td>\n",
       "      <td>1314904516656074752</td>\n",
       "      <td>1903semah</td>\n",
       "      <td>2.782507e-07</td>\n",
       "      <td>5.0</td>\n",
       "      <td>4.316001e-08</td>\n",
       "      <td>1.0</td>\n",
       "      <td>1.0</td>\n",
       "      <td>2.0</td>\n",
       "    </tr>\n",
       "    <tr>\n",
       "      <th>17960</th>\n",
       "      <td>1103730478438338600</td>\n",
       "      <td>4.400301e-08</td>\n",
       "      <td>1103730478438338600</td>\n",
       "      <td>bucharest44</td>\n",
       "      <td>8.347522e-07</td>\n",
       "      <td>2000.0</td>\n",
       "      <td>4.400301e-08</td>\n",
       "      <td>1.0</td>\n",
       "      <td>1.0</td>\n",
       "      <td>2.0</td>\n",
       "    </tr>\n",
       "    <tr>\n",
       "      <th>17959</th>\n",
       "      <td>1103730478438338600</td>\n",
       "      <td>4.400301e-08</td>\n",
       "      <td>1103730478438338600</td>\n",
       "      <td>mypaininenglish</td>\n",
       "      <td>8.347522e-07</td>\n",
       "      <td>2000.0</td>\n",
       "      <td>4.400301e-08</td>\n",
       "      <td>1.0</td>\n",
       "      <td>1.0</td>\n",
       "      <td>2.0</td>\n",
       "    </tr>\n",
       "    <tr>\n",
       "      <th>...</th>\n",
       "      <td>...</td>\n",
       "      <td>...</td>\n",
       "      <td>...</td>\n",
       "      <td>...</td>\n",
       "      <td>...</td>\n",
       "      <td>...</td>\n",
       "      <td>...</td>\n",
       "      <td>...</td>\n",
       "      <td>...</td>\n",
       "      <td>...</td>\n",
       "    </tr>\n",
       "    <tr>\n",
       "      <th>4</th>\n",
       "      <td>18971997</td>\n",
       "      <td>9.095916e-04</td>\n",
       "      <td>18971997</td>\n",
       "      <td>suleymansoylu</td>\n",
       "      <td>2.815619e-03</td>\n",
       "      <td>840.0</td>\n",
       "      <td>9.095916e-04</td>\n",
       "      <td>1.0</td>\n",
       "      <td>1.0</td>\n",
       "      <td>2.0</td>\n",
       "    </tr>\n",
       "    <tr>\n",
       "      <th>3</th>\n",
       "      <td>902503200728731649</td>\n",
       "      <td>1.877445e-03</td>\n",
       "      <td>902503200728731649</td>\n",
       "      <td>iyiparti</td>\n",
       "      <td>2.724631e-03</td>\n",
       "      <td>14.0</td>\n",
       "      <td>1.877445e-03</td>\n",
       "      <td>1.0</td>\n",
       "      <td>1.0</td>\n",
       "      <td>2.0</td>\n",
       "    </tr>\n",
       "    <tr>\n",
       "      <th>2</th>\n",
       "      <td>1652541</td>\n",
       "      <td>2.053004e-03</td>\n",
       "      <td>1652541</td>\n",
       "      <td>reuters</td>\n",
       "      <td>3.003717e-03</td>\n",
       "      <td>251.0</td>\n",
       "      <td>2.053004e-03</td>\n",
       "      <td>1.0</td>\n",
       "      <td>1.0</td>\n",
       "      <td>2.0</td>\n",
       "    </tr>\n",
       "    <tr>\n",
       "      <th>1</th>\n",
       "      <td>399681579</td>\n",
       "      <td>2.451776e-03</td>\n",
       "      <td>399681579</td>\n",
       "      <td>bafgomis</td>\n",
       "      <td>2.942780e-03</td>\n",
       "      <td>1705.0</td>\n",
       "      <td>2.451776e-03</td>\n",
       "      <td>1.0</td>\n",
       "      <td>1.0</td>\n",
       "      <td>2.0</td>\n",
       "    </tr>\n",
       "    <tr>\n",
       "      <th>0</th>\n",
       "      <td>44196397</td>\n",
       "      <td>8.106602e-01</td>\n",
       "      <td>44196397</td>\n",
       "      <td>elonmusk</td>\n",
       "      <td>9.548380e-01</td>\n",
       "      <td>42.0</td>\n",
       "      <td>8.106602e-01</td>\n",
       "      <td>1.0</td>\n",
       "      <td>1.0</td>\n",
       "      <td>2.0</td>\n",
       "    </tr>\n",
       "  </tbody>\n",
       "</table>\n",
       "<p>987 rows × 10 columns</p>\n",
       "</div>"
      ],
      "text/plain": [
       "                      Node    PageRank_x                   id  \\\n",
       "18725  1234074561710317569  4.316001e-08  1234074561710317569   \n",
       "18809            591868046  4.316001e-08            591868046   \n",
       "18742  1314904516656074752  4.316001e-08  1314904516656074752   \n",
       "17960  1103730478438338600  4.400301e-08  1103730478438338600   \n",
       "17959  1103730478438338600  4.400301e-08  1103730478438338600   \n",
       "...                    ...           ...                  ...   \n",
       "4                 18971997  9.095916e-04             18971997   \n",
       "3       902503200728731649  1.877445e-03   902503200728731649   \n",
       "2                  1652541  2.053004e-03              1652541   \n",
       "1                399681579  2.451776e-03            399681579   \n",
       "0                 44196397  8.106602e-01             44196397   \n",
       "\n",
       "                 label     in_degree  Community    PageRank_y  \\\n",
       "18725      asyadoksozz  2.782507e-07       17.0  4.316001e-08   \n",
       "18809      bipolarism_  2.782507e-07       14.0  4.316001e-08   \n",
       "18742        1903semah  2.782507e-07        5.0  4.316001e-08   \n",
       "17960      bucharest44  8.347522e-07     2000.0  4.400301e-08   \n",
       "17959  mypaininenglish  8.347522e-07     2000.0  4.400301e-08   \n",
       "...                ...           ...        ...           ...   \n",
       "4        suleymansoylu  2.815619e-03      840.0  9.095916e-04   \n",
       "3             iyiparti  2.724631e-03       14.0  1.877445e-03   \n",
       "2              reuters  3.003717e-03      251.0  2.053004e-03   \n",
       "1             bafgomis  2.942780e-03     1705.0  2.451776e-03   \n",
       "0             elonmusk  9.548380e-01       42.0  8.106602e-01   \n",
       "\n",
       "       degree_influencer  pagerank_influencer  influencer  \n",
       "18725                1.0                  1.0         2.0  \n",
       "18809                1.0                  1.0         2.0  \n",
       "18742                1.0                  1.0         2.0  \n",
       "17960                1.0                  1.0         2.0  \n",
       "17959                1.0                  1.0         2.0  \n",
       "...                  ...                  ...         ...  \n",
       "4                    1.0                  1.0         2.0  \n",
       "3                    1.0                  1.0         2.0  \n",
       "2                    1.0                  1.0         2.0  \n",
       "1                    1.0                  1.0         2.0  \n",
       "0                    1.0                  1.0         2.0  \n",
       "\n",
       "[987 rows x 10 columns]"
      ]
     },
     "execution_count": 29,
     "metadata": {},
     "output_type": "execute_result"
    }
   ],
   "source": [
    "combined[(combined['degree_influencer']>0) & (combined['pagerank_influencer']>0)]"
   ]
  },
  {
   "cell_type": "code",
   "execution_count": null,
   "metadata": {},
   "outputs": [],
   "source": []
  }
 ],
 "metadata": {
  "kernelspec": {
   "display_name": "Python 3",
   "language": "python",
   "name": "python3"
  },
  "language_info": {
   "codemirror_mode": {
    "name": "ipython",
    "version": 3
   },
   "file_extension": ".py",
   "mimetype": "text/x-python",
   "name": "python",
   "nbconvert_exporter": "python",
   "pygments_lexer": "ipython3",
   "version": "3.8.11"
  }
 },
 "nbformat": 4,
 "nbformat_minor": 2
}
